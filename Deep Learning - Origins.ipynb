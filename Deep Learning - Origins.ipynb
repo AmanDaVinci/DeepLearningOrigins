{
 "cells": [
  {
   "cell_type": "markdown",
   "metadata": {},
   "source": [
    "# Deep Learning : Origins\n",
    "---"
   ]
  },
  {
   "cell_type": "markdown",
   "metadata": {},
   "source": [
    "### Deep Learning originated from these six snippets of code\n",
    "** The following code is extracted and/or modified from the blogpost : http://blog.floydhub.com/coding-the-history-of-deep-learning/ **\n",
    "___"
   ]
  },
  {
   "cell_type": "markdown",
   "metadata": {},
   "source": [
    "## The Method of Least Squares [Adrien-Marie Legendre, 1805]"
   ]
  },
  {
   "cell_type": "code",
   "execution_count": 1,
   "metadata": {},
   "outputs": [
    {
     "data": {
      "text/plain": [
       "22.0"
      ]
     },
     "execution_count": 1,
     "metadata": {},
     "output_type": "execute_result"
    }
   ],
   "source": [
    "# y = mx + b\n",
    "# m is slope, b is y-intercept\n",
    "def compute_error_for_line_given_points(b, m, coordinates):\n",
    "    totalError = 0\n",
    "    for i in range(0, len(coordinates)):\n",
    "        x = coordinates[i][0]\n",
    "        y = coordinates[i][1]\n",
    "        totalError += (y - (m * x + b)) ** 2\n",
    "    return totalError / float(len(coordinates))\n",
    "# example \n",
    "compute_error_for_line_given_points(1, 2, [[3,6],[6,9],[12,18]])"
   ]
  },
  {
   "cell_type": "markdown",
   "metadata": {},
   "source": [
    "## Gradient Descent [Peter Debye, 1909]"
   ]
  },
  {
   "cell_type": "code",
   "execution_count": 15,
   "metadata": {},
   "outputs": [
    {
     "name": "stdout",
     "output_type": "stream",
     "text": [
      "0.5\n",
      "0.8977598093924315\n",
      "1.0849911135011239\n",
      "1.09512832509476\n",
      "1.0954357620260686\n",
      "1.0954448390869513\n",
      "1.0954451068704756\n",
      "1.0954451147702031\n",
      "1.0954451150032483\n",
      "1.0954451150101232\n",
      "1.095445115010326\n",
      "1.0954451150103315\n",
      "1.0954451150103315\n",
      "1.0954451150103315\n",
      "1.0954451150103315\n",
      "1.0954451150103315\n",
      "1.0954451150103315\n",
      "1.0954451150103315\n",
      "1.0954451150103315\n",
      "1.0954451150103315\n",
      "The local minimum occurs at 1.095445\n"
     ]
    }
   ],
   "source": [
    "current_x = 0.5 # the algorithm starts at x=0.5\n",
    "minimum = current_x\n",
    "learning_rate = 0.01 # step size multiplier\n",
    "num_iterations = 500 # the number of times to train the function\n",
    "\n",
    "#the derivative of the error function (x**4 = the power of 4 or x^4) \n",
    "def slope_at_given_x_value(x): \n",
    "   return 5 * x**4 - 6 * x**2\n",
    "\n",
    "# Move X to the right or left depending on the slope of the error function\n",
    "for i in range(num_iterations):\n",
    "   previous_x = current_x\n",
    "   current_x += -learning_rate * slope_at_given_x_value(previous_x)\n",
    "\n",
    "   if i%25 == 0:\n",
    "      print(previous_x)\n",
    "\n",
    "   if previous_x == current_x:\n",
    "      minimum = current_x\n",
    "\n",
    "print(\"The local minimum occurs at %f\" % minimum)"
   ]
  },
  {
   "cell_type": "code",
   "execution_count": null,
   "metadata": {
    "collapsed": true
   },
   "outputs": [],
   "source": []
  }
 ],
 "metadata": {
  "kernelspec": {
   "display_name": "Python [default]",
   "language": "python",
   "name": "python3"
  },
  "language_info": {
   "codemirror_mode": {
    "name": "ipython",
    "version": 3
   },
   "file_extension": ".py",
   "mimetype": "text/x-python",
   "name": "python",
   "nbconvert_exporter": "python",
   "pygments_lexer": "ipython3",
   "version": "3.5.2"
  }
 },
 "nbformat": 4,
 "nbformat_minor": 2
}
